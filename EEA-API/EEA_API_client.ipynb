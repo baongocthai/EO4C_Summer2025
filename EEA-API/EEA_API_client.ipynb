{
 "cells": [
  {
   "cell_type": "markdown",
   "id": "a7e4b508",
   "metadata": {},
   "source": [
    "# European Environmental Agency Download Pipeline"
   ]
  },
  {
   "cell_type": "code",
   "execution_count": 4,
   "id": "12ea4e76",
   "metadata": {},
   "outputs": [],
   "source": [
    "import pandas as pd\n",
    "import numpy as np\n",
    "import json\n",
    "from zipfile import ZipFile\n",
    "import os\n",
    "import time\n",
    "import matplotlib.pyplot as plt"
   ]
  },
  {
   "cell_type": "code",
   "execution_count": 5,
   "id": "cc959cb4",
   "metadata": {},
   "outputs": [],
   "source": [
    "import requests\n",
    "apiUrl = \"https://eeadmz1-downloads-api-appservice.azurewebsites.net/\""
   ]
  },
  {
   "cell_type": "markdown",
   "id": "a2c7425c",
   "metadata": {},
   "source": [
    "### City info"
   ]
  },
  {
   "cell_type": "code",
   "execution_count": null,
   "id": "5b4b330c",
   "metadata": {},
   "outputs": [],
   "source": [
    "cities_by_country = {\n",
    "    \"PT\": [\"Lisboa (greater city)\"],\n",
    "    \"ES\": [\"A Coruña\", \"Barcelona\", \"Cartagena\", \"Madrid\"],\n",
    "    \"NO\": [\"Stavanger\"],\n",
    "    \"FR\": [\"Paris (greater city)\", \"Marseille\"],\n",
    "    \"IT\": [\"Milano (greater city)\", \"Roma\", \"Trapani\", \"Cagliari\"],\n",
    "    \"CH\": [\"Zürich (greater city)\", \"Genève (greater city)\"],\n",
    "    \"GB\": [\"Greater Belfast\", \"City of Edinburgh\", \"Leeds\", \"Cardiff\", \"London (greater city)\"],\n",
    "    \"GR\": [\"Athina\"],\n",
    "    \"LU\": [\"Luxembourg\"],\n",
    "    \"CZ\": [\"Praha\"],\n",
    "    \"HU\": [\"Budapest\"],\n",
    "    \"PL\": [\"Gdansk\", \"Warszawa\"],\n",
    "    \"DK\": [\"København\"],\n",
    "    \"EE\": [\"Tallinn\"],\n",
    "    \"BA\": []\n",
    "}"
   ]
  },
  {
   "cell_type": "markdown",
   "id": "df7b92ac",
   "metadata": {},
   "source": [
    "## Get ParquetFiles"
   ]
  },
  {
   "cell_type": "code",
   "execution_count": 7,
   "id": "79642a95",
   "metadata": {},
   "outputs": [],
   "source": [
    "# Both endpoints are invoked exactly the same way\n",
    "save_in = 'air_EEA'\n",
    "\n",
    "# endpoint = \"ParquetFile\"\n",
    "endpoint = \"ParquetFile/dynamic\"\n",
    "\n",
    "for country in cities_by_country.keys():\n",
    "    for city in cities_by_country[country]:  \n",
    "        #Request body\n",
    "        request_body = {\n",
    "        \"countries\": [country],\n",
    "        \"cities\": [city],\n",
    "        \"pollutants\": [\"CO\", \"PM2.5\", \"PM10\"],\n",
    "        \"dataset\": 1,\n",
    "        \"dateTimeStart\": \"2025-05-22T01:00:00.000Z\",\n",
    "        \"dateTimeEnd\": \"2025-06-15T12:00:00.000Z\",\n",
    "        \"aggregationType\": \"hour\"\n",
    "        }\n",
    "        fileName = f\"air_EEA/{country}_{city}_air.zip\"\n",
    "        # A get request to the API\n",
    "        downloadFile = requests.post(apiUrl+endpoint, json=request_body).content\n",
    "        # Store in local path\n",
    "        output = open(fileName, 'wb')\n",
    "        output.write(downloadFile)\n",
    "        output.close()\n",
    "        \n"
   ]
  },
  {
   "cell_type": "code",
   "execution_count": 8,
   "id": "3ef61532",
   "metadata": {},
   "outputs": [
    {
     "name": "stdout",
     "output_type": "stream",
     "text": [
      "success for PT_Lisboa (greater city)\n",
      "success for ES_A Coruña\n",
      "success for ES_Barcelona\n",
      "success for ES_Cartagena\n",
      "success for ES_Madrid\n",
      "fail for NO_Stavanger\n",
      "success for FR_Paris (greater city)\n",
      "success for FR_Marseille\n",
      "success for IT_Milano (greater city)\n",
      "success for IT_Roma\n",
      "success for IT_Trapani\n",
      "success for IT_Cagliari\n",
      "success for CH_Zürich (greater city)\n",
      "success for CH_Genève (greater city)\n",
      "success for GB_Greater Belfast\n",
      "success for GB_City of Edinburgh\n",
      "success for GB_Leeds\n",
      "success for GB_Cardiff\n",
      "success for GB_London (greater city)\n",
      "success for GR_Athina\n",
      "success for LU_Luxembourg\n",
      "success for CZ_Praha\n",
      "fail for HU_Budapest\n",
      "success for PL_Gdansk\n",
      "success for PL_Warszawa\n",
      "success for DK_København\n",
      "success for EE_Tallinn\n"
     ]
    }
   ],
   "source": [
    "# Both endpoints are invoked exactly the same way\n",
    "save_in = 'air_EEA'\n",
    "\n",
    "# endpoint = \"ParquetFile\"\n",
    "endpoint = \"ParquetFile/dynamic\"\n",
    "\n",
    "for country in cities_by_country.keys():\n",
    "    for city in cities_by_country[country]:  \n",
    "        # Request body\n",
    "        request_body = {\n",
    "        \"countries\": [country],\n",
    "        \"cities\": [city],\n",
    "        \"pollutants\": [\"CO\"], # [\"CO\", \"PM2.5\", \"PM10\"],\n",
    "        \"dataset\": 1,\n",
    "        \"dateTimeStart\": \"2025-05-22T01:00:00.000Z\",\n",
    "        \"dateTimeEnd\": \"2025-06-15T12:00:00.000Z\",\n",
    "        \"aggregationType\": \"hour\"\n",
    "        }\n",
    "        fileName = f\"{save_in}/{country}_{city}_air.zip\"\n",
    "        # A get request to the API\n",
    "        downloadFile = requests.post(apiUrl+endpoint, json=request_body).content\n",
    "        # Store in local path\n",
    "        output = open(fileName, 'wb')\n",
    "        output.write(downloadFile)\n",
    "        output.close()\n",
    "    \n",
    "    #loading the temp.zip and creating a zip object\n",
    "        try:\n",
    "            with ZipFile(fileName, 'r') as zObject:\n",
    "                # Extracting all the members of the zip \n",
    "                # into a specific location.\n",
    "                zObject.extractall(f'{save_in}')\n",
    "            os.rename(f'{save_in}/E2a', f'{save_in}/{country}_{city}')\n",
    "            print(f'success for {country}_{city}')\n",
    "        except Exception as error:\n",
    "            #print(error)\n",
    "            print(f'fail for {country}_{city}')\n",
    "        \n"
   ]
  },
  {
   "cell_type": "markdown",
   "id": "e0e7bdfb",
   "metadata": {},
   "source": [
    "## Extract data from parquet files into a DataFrame"
   ]
  },
  {
   "cell_type": "code",
   "execution_count": null,
   "id": "89baf103",
   "metadata": {},
   "outputs": [
    {
     "name": "stdout",
     "output_type": "stream",
     "text": [
      "SPO-FR04055_10.parquet\n",
      "SP_28092005_6_48.parquet\n",
      "SP_28079035_6_48.parquet\n",
      "SP_28079004_6_48.parquet\n",
      "SP_28079056_6_48.parquet\n",
      "SP_28079008_6_48.parquet\n",
      "SPO-DK0045A_00010_100.parquet\n",
      "SPO-DK0034A_00010_100.parquet\n",
      "SPO-FR03043_10.parquet\n",
      "SP_30016020_6_48.parquet\n",
      "SP_30016021_6_48.parquet\n",
      "SP_30016001_6_48.parquet\n",
      "SPO-PT03100_00010_100.parquet\n",
      "SPO-PT03082_00010_100.parquet\n",
      "SPO-PT03083_00010_100.parquet\n",
      "SPO-PT03072_00010_100.parquet\n",
      "SPO-PT03097_00010_100.parquet\n",
      "SPO-PT03075_00010_100.parquet\n",
      "SPO-PT03071_00010_100.parquet\n",
      "SPO.IT1290A_10_NDIR_1994-02-01_00_00_00.parquet\n",
      "SPO.IT1016A_10_NDIR_1995-06-01_00_00_00.parquet\n",
      "SPO.IT0477A_10_NDIR_1988-07-01_00_00_00.parquet\n",
      "SPO.IT0480A_10_NDIR_1989-10-01_00_00_00.parquet\n",
      "GB_SamplingPoint_107.parquet\n",
      "SPO-EE0020A_00010_100.parquet\n",
      "SPO-EE0015A_00010_100.parquet\n",
      "SPO-EE0018A_00010_100.parquet\n",
      "SPO.CZ_ALIBA_CO_40282.parquet\n",
      "SPO.CZ_ALEGA_CO_41158.parquet\n",
      "GB_SamplingPoint_127.parquet\n",
      "SP_15030001_6_48.parquet\n",
      "SP_15030027_6_48.parquet\n",
      "SPO_PL0052A_10_001.parquet\n",
      "GB_SamplingPoint_61573.parquet\n",
      "SPO_PL0140A_10_001.parquet\n",
      "SP_08019043_6_48.parquet\n",
      "SP_08301004_6_48.parquet\n",
      "SP_08019057_6_48.parquet\n",
      "SP_08125002_6_48.parquet\n",
      "SP_08089005_6_48.parquet\n",
      "SP_08169009_6_48.parquet\n",
      "SP_08019054_6_48.parquet\n",
      "SP_08279011_6_48.parquet\n",
      "SPO-CH0055A_00010_100.parquet\n",
      "SPO.IT2056A_10_NDIR_2012-01-01_00_00_00.parquet\n",
      "SPO.IT1837A_10_NDIR_2006-12-17_00_00_00.parquet\n",
      "SPO.IT0953A_10_NDIR_1997-01-01_00_00_00.parquet\n",
      "SPO.IT1898A_10_NDIR_2008-09-16_00_00_00.parquet\n",
      "GB_SamplingPoint_112.parquet\n",
      "SPO-LU0101A_00010_100.parquet\n",
      "GB_SamplingPoint_205.parquet\n",
      "GB_SamplingPoint_336.parquet\n",
      "SPO-GR0022A_00010_101.parquet\n",
      "SPO-GR0030A_00010_120.parquet\n",
      "SPO-GR0031A_00010_131.parquet\n",
      "SPO-GR0032A_00010_130.parquet\n",
      "SPO-CH0013A_00010_100.parquet\n",
      "SPO-CH0021A_00010_100.parquet\n",
      "SPO-CH0010A_00010_500.parquet\n",
      "SPO-CH0005A_00010_502.parquet\n"
     ]
    }
   ],
   "source": [
    "from numpy import NaN\n",
    "import pandas as pd\n",
    "import os\n",
    "\n",
    "save_in='air_EEA'\n",
    "\n",
    "final_df=pd.DataFrame()\n",
    "for city_folder in [f for f in os.listdir(save_in) if f != \".DS_Store\"]:\n",
    "        \n",
    "    country, city = city_folder.split('_')\n",
    "    city_dir = f'{save_in}/{country}_{city}'\n",
    "    sensor_files = os.listdir(city_dir)\n",
    "    \n",
    "    df_city=pd.DataFrame()\n",
    "    for sensor_file in sensor_files:\n",
    "        df = pd.read_parquet(f'{city_dir}/{sensor_file}')\n",
    "        df[df[\"Value\"] <= 0] = NaN\n",
    "        sensorID = sensor_file\n",
    "        df[\"sensorID\"] = sensorID\n",
    "        print(sensorID)\n",
    "        df[\"day\"] = df[\"End\"].dt.date\n",
    "        df[\"hour\"] = df[\"End\"].dt.hour\n",
    "        df['country'] = country\n",
    "        df['city'] = city\n",
    "        df['Value'] = df['Value'].astype('float32')\n",
    "        cols = ['sensorID', 'country', 'city', 'day', 'hour', 'Value', 'End']\n",
    "        df = df[cols]\n",
    "        df_city = pd.concat([df_city, df], ignore_index=True)\n",
    "    final_df = pd.concat([final_df, df_city], ignore_index=True)"
   ]
  },
  {
   "cell_type": "code",
   "execution_count": 11,
   "id": "6d9eda62",
   "metadata": {},
   "outputs": [],
   "source": [
    "final_df[\"End\"] = final_df[\"End\"].dt.tz_localize(\"Etc/GMT-1\").dt.tz_convert(\"UTC\")\n",
    "final_df['sensorID']=final_df['sensorID'].apply(lambda col: col.split('.')[0])"
   ]
  },
  {
   "cell_type": "code",
   "execution_count": 12,
   "id": "1bd3a4e1",
   "metadata": {},
   "outputs": [],
   "source": [
    "valid_df = pd.read_csv('coordinates_valid_sampling_pts.csv')\n",
    "valid_stations = list(valid_df['Sampling station ID'])"
   ]
  },
  {
   "cell_type": "code",
   "execution_count": 13,
   "id": "96c00bad",
   "metadata": {},
   "outputs": [],
   "source": [
    "final_df_filtered = final_df.loc[final_df['sensorID'].isin(valid_stations)]"
   ]
  },
  {
   "cell_type": "code",
   "execution_count": 14,
   "id": "9da221cf",
   "metadata": {},
   "outputs": [
    {
     "name": "stderr",
     "output_type": "stream",
     "text": [
      "/var/folders/01/t0tyw8pn5b12d671zydx4_dc0000gn/T/ipykernel_80578/4033069165.py:1: SettingWithCopyWarning: \n",
      "A value is trying to be set on a copy of a slice from a DataFrame.\n",
      "Try using .loc[row_indexer,col_indexer] = value instead\n",
      "\n",
      "See the caveats in the documentation: https://pandas.pydata.org/pandas-docs/stable/user_guide/indexing.html#returning-a-view-versus-a-copy\n",
      "  final_df_filtered['country_city'] = final_df_filtered['country'] + '_' + final_df_filtered['city']\n"
     ]
    }
   ],
   "source": [
    "final_df_filtered['country_city'] = final_df_filtered['country'] + '_' + final_df_filtered['city']"
   ]
  },
  {
   "cell_type": "markdown",
   "id": "15cba4f6",
   "metadata": {},
   "source": [
    "### Reviewing dataframe"
   ]
  },
  {
   "cell_type": "code",
   "execution_count": 15,
   "id": "ebf49904",
   "metadata": {},
   "outputs": [
    {
     "data": {
      "text/plain": [
       "country_city\n",
       "CH_Zürich (greater city)    2\n",
       "DK_København                1\n",
       "EE_Tallinn                  1\n",
       "ES_A Coruña                 1\n",
       "ES_Barcelona                5\n",
       "ES_Cartagena                1\n",
       "ES_Madrid                   2\n",
       "FR_Marseille                1\n",
       "FR_Paris (greater city)     1\n",
       "GB_Cardiff                  1\n",
       "GB_City of Edinburgh        1\n",
       "GB_Greater Belfast          1\n",
       "GB_Leeds                    1\n",
       "GB_London (greater city)    1\n",
       "GR_Athina                   2\n",
       "LU_Luxembourg               1\n",
       "PT_Lisboa (greater city)    3\n",
       "Name: sensorID, dtype: int64"
      ]
     },
     "execution_count": 15,
     "metadata": {},
     "output_type": "execute_result"
    }
   ],
   "source": [
    "final_df_filtered.groupby('country_city')['sensorID'].nunique()"
   ]
  },
  {
   "cell_type": "code",
   "execution_count": 376,
   "id": "d7dc55f9",
   "metadata": {},
   "outputs": [
    {
     "name": "stdout",
     "output_type": "stream",
     "text": [
      "5342.23 KB\n"
     ]
    }
   ],
   "source": [
    "size_kb = final_df_filtered.memory_usage(deep=True).sum() / 1024\n",
    "print(f\"{size_kb:.2f} KB\")"
   ]
  },
  {
   "cell_type": "markdown",
   "id": "36827dbe",
   "metadata": {},
   "source": [
    "### Save it!"
   ]
  },
  {
   "cell_type": "code",
   "execution_count": null,
   "id": "74f49b8c",
   "metadata": {},
   "outputs": [],
   "source": [
    "#final_df_filtered.to_csv('valid_sensors_data.csv')"
   ]
  },
  {
   "cell_type": "code",
   "execution_count": 19,
   "id": "f63c2ec6",
   "metadata": {},
   "outputs": [
    {
     "data": {
      "text/html": [
       "<div>\n",
       "<style scoped>\n",
       "    .dataframe tbody tr th:only-of-type {\n",
       "        vertical-align: middle;\n",
       "    }\n",
       "\n",
       "    .dataframe tbody tr th {\n",
       "        vertical-align: top;\n",
       "    }\n",
       "\n",
       "    .dataframe thead th {\n",
       "        text-align: right;\n",
       "    }\n",
       "</style>\n",
       "<table border=\"1\" class=\"dataframe\">\n",
       "  <thead>\n",
       "    <tr style=\"text-align: right;\">\n",
       "      <th></th>\n",
       "      <th>sensorID</th>\n",
       "      <th>country</th>\n",
       "      <th>city</th>\n",
       "      <th>day</th>\n",
       "      <th>hour</th>\n",
       "      <th>Value</th>\n",
       "      <th>End</th>\n",
       "      <th>country_city</th>\n",
       "    </tr>\n",
       "  </thead>\n",
       "  <tbody>\n",
       "    <tr>\n",
       "      <th>0</th>\n",
       "      <td>SPO-FR04055_10</td>\n",
       "      <td>FR</td>\n",
       "      <td>Paris (greater city)</td>\n",
       "      <td>2025-05-22</td>\n",
       "      <td>2.0</td>\n",
       "      <td>0.1290</td>\n",
       "      <td>2025-05-22 01:00:00+00:00</td>\n",
       "      <td>FR_Paris (greater city)</td>\n",
       "    </tr>\n",
       "    <tr>\n",
       "      <th>1</th>\n",
       "      <td>SPO-FR04055_10</td>\n",
       "      <td>FR</td>\n",
       "      <td>Paris (greater city)</td>\n",
       "      <td>2025-05-22</td>\n",
       "      <td>3.0</td>\n",
       "      <td>0.1150</td>\n",
       "      <td>2025-05-22 02:00:00+00:00</td>\n",
       "      <td>FR_Paris (greater city)</td>\n",
       "    </tr>\n",
       "    <tr>\n",
       "      <th>2</th>\n",
       "      <td>SPO-FR04055_10</td>\n",
       "      <td>FR</td>\n",
       "      <td>Paris (greater city)</td>\n",
       "      <td>2025-05-22</td>\n",
       "      <td>4.0</td>\n",
       "      <td>0.1080</td>\n",
       "      <td>2025-05-22 03:00:00+00:00</td>\n",
       "      <td>FR_Paris (greater city)</td>\n",
       "    </tr>\n",
       "    <tr>\n",
       "      <th>3</th>\n",
       "      <td>SPO-FR04055_10</td>\n",
       "      <td>FR</td>\n",
       "      <td>Paris (greater city)</td>\n",
       "      <td>2025-05-22</td>\n",
       "      <td>5.0</td>\n",
       "      <td>0.1090</td>\n",
       "      <td>2025-05-22 04:00:00+00:00</td>\n",
       "      <td>FR_Paris (greater city)</td>\n",
       "    </tr>\n",
       "    <tr>\n",
       "      <th>4</th>\n",
       "      <td>SPO-FR04055_10</td>\n",
       "      <td>FR</td>\n",
       "      <td>Paris (greater city)</td>\n",
       "      <td>2025-05-22</td>\n",
       "      <td>6.0</td>\n",
       "      <td>0.1160</td>\n",
       "      <td>2025-05-22 05:00:00+00:00</td>\n",
       "      <td>FR_Paris (greater city)</td>\n",
       "    </tr>\n",
       "    <tr>\n",
       "      <th>...</th>\n",
       "      <td>...</td>\n",
       "      <td>...</td>\n",
       "      <td>...</td>\n",
       "      <td>...</td>\n",
       "      <td>...</td>\n",
       "      <td>...</td>\n",
       "      <td>...</td>\n",
       "      <td>...</td>\n",
       "    </tr>\n",
       "    <tr>\n",
       "      <th>34702</th>\n",
       "      <td>SPO-CH0005A_00010_502</td>\n",
       "      <td>CH</td>\n",
       "      <td>Zürich (greater city)</td>\n",
       "      <td>2025-06-15</td>\n",
       "      <td>8.0</td>\n",
       "      <td>0.1452</td>\n",
       "      <td>2025-06-15 07:00:00+00:00</td>\n",
       "      <td>CH_Zürich (greater city)</td>\n",
       "    </tr>\n",
       "    <tr>\n",
       "      <th>34703</th>\n",
       "      <td>SPO-CH0005A_00010_502</td>\n",
       "      <td>CH</td>\n",
       "      <td>Zürich (greater city)</td>\n",
       "      <td>2025-06-15</td>\n",
       "      <td>9.0</td>\n",
       "      <td>0.1515</td>\n",
       "      <td>2025-06-15 08:00:00+00:00</td>\n",
       "      <td>CH_Zürich (greater city)</td>\n",
       "    </tr>\n",
       "    <tr>\n",
       "      <th>34704</th>\n",
       "      <td>SPO-CH0005A_00010_502</td>\n",
       "      <td>CH</td>\n",
       "      <td>Zürich (greater city)</td>\n",
       "      <td>2025-06-15</td>\n",
       "      <td>10.0</td>\n",
       "      <td>0.1936</td>\n",
       "      <td>2025-06-15 09:00:00+00:00</td>\n",
       "      <td>CH_Zürich (greater city)</td>\n",
       "    </tr>\n",
       "    <tr>\n",
       "      <th>34705</th>\n",
       "      <td>SPO-CH0005A_00010_502</td>\n",
       "      <td>CH</td>\n",
       "      <td>Zürich (greater city)</td>\n",
       "      <td>2025-06-15</td>\n",
       "      <td>11.0</td>\n",
       "      <td>0.2026</td>\n",
       "      <td>2025-06-15 10:00:00+00:00</td>\n",
       "      <td>CH_Zürich (greater city)</td>\n",
       "    </tr>\n",
       "    <tr>\n",
       "      <th>34706</th>\n",
       "      <td>SPO-CH0005A_00010_502</td>\n",
       "      <td>CH</td>\n",
       "      <td>Zürich (greater city)</td>\n",
       "      <td>2025-06-15</td>\n",
       "      <td>12.0</td>\n",
       "      <td>0.1965</td>\n",
       "      <td>2025-06-15 11:00:00+00:00</td>\n",
       "      <td>CH_Zürich (greater city)</td>\n",
       "    </tr>\n",
       "  </tbody>\n",
       "</table>\n",
       "<p>15144 rows × 8 columns</p>\n",
       "</div>"
      ],
      "text/plain": [
       "                    sensorID country                   city         day  hour  \\\n",
       "0             SPO-FR04055_10      FR   Paris (greater city)  2025-05-22   2.0   \n",
       "1             SPO-FR04055_10      FR   Paris (greater city)  2025-05-22   3.0   \n",
       "2             SPO-FR04055_10      FR   Paris (greater city)  2025-05-22   4.0   \n",
       "3             SPO-FR04055_10      FR   Paris (greater city)  2025-05-22   5.0   \n",
       "4             SPO-FR04055_10      FR   Paris (greater city)  2025-05-22   6.0   \n",
       "...                      ...     ...                    ...         ...   ...   \n",
       "34702  SPO-CH0005A_00010_502      CH  Zürich (greater city)  2025-06-15   8.0   \n",
       "34703  SPO-CH0005A_00010_502      CH  Zürich (greater city)  2025-06-15   9.0   \n",
       "34704  SPO-CH0005A_00010_502      CH  Zürich (greater city)  2025-06-15  10.0   \n",
       "34705  SPO-CH0005A_00010_502      CH  Zürich (greater city)  2025-06-15  11.0   \n",
       "34706  SPO-CH0005A_00010_502      CH  Zürich (greater city)  2025-06-15  12.0   \n",
       "\n",
       "        Value                       End              country_city  \n",
       "0      0.1290 2025-05-22 01:00:00+00:00   FR_Paris (greater city)  \n",
       "1      0.1150 2025-05-22 02:00:00+00:00   FR_Paris (greater city)  \n",
       "2      0.1080 2025-05-22 03:00:00+00:00   FR_Paris (greater city)  \n",
       "3      0.1090 2025-05-22 04:00:00+00:00   FR_Paris (greater city)  \n",
       "4      0.1160 2025-05-22 05:00:00+00:00   FR_Paris (greater city)  \n",
       "...       ...                       ...                       ...  \n",
       "34702  0.1452 2025-06-15 07:00:00+00:00  CH_Zürich (greater city)  \n",
       "34703  0.1515 2025-06-15 08:00:00+00:00  CH_Zürich (greater city)  \n",
       "34704  0.1936 2025-06-15 09:00:00+00:00  CH_Zürich (greater city)  \n",
       "34705  0.2026 2025-06-15 10:00:00+00:00  CH_Zürich (greater city)  \n",
       "34706  0.1965 2025-06-15 11:00:00+00:00  CH_Zürich (greater city)  \n",
       "\n",
       "[15144 rows x 8 columns]"
      ]
     },
     "execution_count": 19,
     "metadata": {},
     "output_type": "execute_result"
    }
   ],
   "source": [
    "final_df_filtered"
   ]
  },
  {
   "cell_type": "markdown",
   "id": "5c0abfa7",
   "metadata": {},
   "source": [
    "# Overview"
   ]
  },
  {
   "cell_type": "code",
   "execution_count": 20,
   "id": "67c0b578",
   "metadata": {},
   "outputs": [
    {
     "data": {
      "image/png": "[encoded data removed]",
      "text/plain": [
       "<Figure size 1000x500 with 1 Axes>"
      ]
     },
     "metadata": {},
     "output_type": "display_data"
    }
   ],
   "source": [
    "place='DK_København'\n",
    "available_sensors = final_df_filtered.sensorID.unique()\n",
    "for sensorID_file in os.listdir(f'{save_in}/{place}'):\n",
    "    sensorID=sensorID_file.split('.')[0]\n",
    "    if sensorID not in available_sensors:\n",
    "        continue\n",
    "    sensorData = final_df_filtered[final_df_filtered['sensorID']==sensorID]\n",
    "    #sensorData.loc[sensorData['Value']==0]=np.nan\n",
    "    country, city = sensorData[['country', 'city']].iloc[0]\n",
    "    sensorData.set_index('End')['Value'].plot(figsize=(10,5))\n",
    "    plt.style.use(\"fivethirtyeight\")\n",
    "    plt.title(f\"CO conc. in {city}, {country}\")\n",
    "    plt.show()"
   ]
  }
 ],
 "metadata": {
  "kernelspec": {
   "display_name": "myenv",
   "language": "python",
   "name": "python3"
  },
  "language_info": {
   "codemirror_mode": {
    "name": "ipython",
    "version": 3
   },
   "file_extension": ".py",
   "mimetype": "text/x-python",
   "name": "python",
   "nbconvert_exporter": "python",
   "pygments_lexer": "ipython3",
   "version": "3.8.18"
  }
 },
 "nbformat": 4,
 "nbformat_minor": 5
}
